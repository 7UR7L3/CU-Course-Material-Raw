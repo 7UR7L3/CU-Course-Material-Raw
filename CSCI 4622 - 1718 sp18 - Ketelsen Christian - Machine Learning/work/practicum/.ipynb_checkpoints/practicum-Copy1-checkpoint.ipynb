version https://git-lfs.github.com/spec/v1
oid sha256:8da7ebbfc8191c404f298005558a5f0b864b7676af5f799a66f3a78dd6096986
size 22285
