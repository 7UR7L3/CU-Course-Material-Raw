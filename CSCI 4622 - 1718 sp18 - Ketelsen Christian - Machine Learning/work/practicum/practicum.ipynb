version https://git-lfs.github.com/spec/v1
oid sha256:6f2b7eda905d8c929c93dc758b51e70da3680820683600a4b8da248d56c05857
size 287113
