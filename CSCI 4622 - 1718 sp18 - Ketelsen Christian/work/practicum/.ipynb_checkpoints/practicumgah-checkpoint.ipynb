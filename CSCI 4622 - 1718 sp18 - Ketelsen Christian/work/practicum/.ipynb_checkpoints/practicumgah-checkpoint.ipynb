version https://git-lfs.github.com/spec/v1
oid sha256:f92fc4d1cda70459790f54b1c702aaf33e318cc4242c0b970587279cd2566ee8
size 22266
