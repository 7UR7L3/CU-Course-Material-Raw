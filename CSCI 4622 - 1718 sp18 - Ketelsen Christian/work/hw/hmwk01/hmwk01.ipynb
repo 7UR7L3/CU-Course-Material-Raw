version https://git-lfs.github.com/spec/v1
oid sha256:dd4c8ffb70981c07b6b81f1309560003d64f2af0cc8753e7348f1117cad78140
size 17154
