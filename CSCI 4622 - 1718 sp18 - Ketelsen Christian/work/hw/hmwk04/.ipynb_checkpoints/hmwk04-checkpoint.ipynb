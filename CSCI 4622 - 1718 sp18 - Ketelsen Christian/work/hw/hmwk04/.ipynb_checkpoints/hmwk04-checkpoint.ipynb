version https://git-lfs.github.com/spec/v1
oid sha256:5b5c97fad0507cb5a099fbb2d36b1b92b52df2de0afbd4d4dbed4f020289868d
size 105948
