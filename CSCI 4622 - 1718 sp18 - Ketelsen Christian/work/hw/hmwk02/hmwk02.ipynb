version https://git-lfs.github.com/spec/v1
oid sha256:86f522de171a7a1ce0bb60a70edcefeeba048aea5d71caecb0caa4d776b45786
size 174142
