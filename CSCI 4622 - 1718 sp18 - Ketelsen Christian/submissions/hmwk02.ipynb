version https://git-lfs.github.com/spec/v1
oid sha256:524a71af50539a330456d5af8cc4008907bed3856dd140bf504bbddbcb875a17
size 192364
