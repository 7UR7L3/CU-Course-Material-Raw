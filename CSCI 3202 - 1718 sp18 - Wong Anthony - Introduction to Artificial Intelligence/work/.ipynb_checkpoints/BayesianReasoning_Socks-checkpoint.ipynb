version https://git-lfs.github.com/spec/v1
oid sha256:63b4d00c755d2fb7c904bfc2741c7d403c3b80c155f08d04bb4ada403fcb4899
size 17766
