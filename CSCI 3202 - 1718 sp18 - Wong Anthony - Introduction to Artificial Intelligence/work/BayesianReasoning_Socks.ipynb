version https://git-lfs.github.com/spec/v1
oid sha256:aa1458eaabb35891ba3d68cfa6ebb7f679373b17e310be6ba38ba2ae57b532f3
size 65063
